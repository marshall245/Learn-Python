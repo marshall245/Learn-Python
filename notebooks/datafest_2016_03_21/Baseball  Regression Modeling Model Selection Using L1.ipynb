{
 "cells": [
  {
   "cell_type": "markdown",
   "metadata": {},
   "source": [
    "# Baseball  Regression Modeling Model Selection Using L1"
   ]
  },
  {
   "cell_type": "markdown",
   "metadata": {},
   "source": [
    "## Learning Objectives"
   ]
  },
  {
   "cell_type": "markdown",
   "metadata": {},
   "source": [
    "Run a basic regression using L1 regularization to conduct variable selection\n",
    "    * run a simple OLS\n",
    "    * analyze output\n",
    "    * run L1 regression and identify best regularization parameter\n",
    "    * interpret model parameters"
   ]
  },
  {
   "cell_type": "markdown",
   "metadata": {},
   "source": [
    "## Imports"
   ]
  },
  {
   "cell_type": "code",
   "execution_count": 1,
   "metadata": {
    "collapsed": true
   },
   "outputs": [],
   "source": [
    "import pandas as pd\n",
    "import statsmodels.api as sms\n",
    "import sklearn.linear_model as lm"
   ]
  },
  {
   "cell_type": "code",
   "execution_count": 2,
   "metadata": {
    "collapsed": false
   },
   "outputs": [],
   "source": [
    "%matplotlib inline"
   ]
  },
  {
   "cell_type": "markdown",
   "metadata": {},
   "source": [
    "## Get Data and Subset Data"
   ]
  },
  {
   "cell_type": "code",
   "execution_count": 3,
   "metadata": {
    "collapsed": true
   },
   "outputs": [],
   "source": [
    "# retrieve csv file and store to dataframe\n",
    "df = pd.read_csv('baseball_data.csv')\n",
    "\n",
    "# subset the dataframe removing rows with NULL values\n",
    "bix = df.notnull().all(axis=1)\n",
    "df = df[bix]"
   ]
  },
  {
   "cell_type": "markdown",
   "metadata": {},
   "source": [
    "## A First Regression Model Using All Variables"
   ]
  },
  {
   "cell_type": "markdown",
   "metadata": {},
   "source": [
    "The hope here is that we can get a batch look at how the variables relate to the target. This unfortunately fails due to tight correlations within the covariates."
   ]
  },
  {
   "cell_type": "code",
   "execution_count": 4,
   "metadata": {
    "collapsed": false
   },
   "outputs": [],
   "source": [
    "model = sms.OLS(df.salary_in_thousands_of_dollars, sms.add_constant(df.iloc[:, 1:]))"
   ]
  },
  {
   "cell_type": "markdown",
   "metadata": {},
   "source": [
    "Notes:\n",
    "    * we acheive a fairly high R2 right off the bat with this approach .86\n",
    "    * a couple of variables are significant or nearly so\n",
    "        - on_base_percentage\n",
    "        - number_of_runs\n",
    "        - number_of_runs_batted_in\n",
    "        - number_of_strike_outs\n",
    "        - number_of_stolen_bases\n",
    "        - indicator_of_free_agency_eligibility\n",
    "        - indicator_of_free_agent_in_1991_1992\n",
    "        - indicator_of_arbitration_eligibility\n",
    "        - indicator_of_arbitration_in_1991_1992\n",
    "    * there are a large number of variables, how do we know what should be in the model and what should be out?\n",
    "    * warning 2 in the printed output below states there may be high multicollinearity (high correlation between covariates)"
   ]
  },
  {
   "cell_type": "code",
   "execution_count": 5,
   "metadata": {
    "collapsed": false,
    "scrolled": true
   },
   "outputs": [],
   "source": [
    "result = model.fit()"
   ]
  },
  {
   "cell_type": "code",
   "execution_count": 6,
   "metadata": {
    "collapsed": false
   },
   "outputs": [
    {
     "name": "stdout",
     "output_type": "stream",
     "text": [
      "                                  OLS Regression Results                                  \n",
      "==========================================================================================\n",
      "Dep. Variable:     salary_in_thousands_of_dollars   R-squared:                       0.711\n",
      "Model:                                        OLS   Adj. R-squared:                  0.696\n",
      "Method:                             Least Squares   F-statistic:                     47.90\n",
      "Date:                            Mon, 21 Mar 2016   Prob (F-statistic):           4.71e-74\n",
      "Time:                                    17:00:54   Log-Likelihood:                -2602.7\n",
      "No. Observations:                             329   AIC:                             5239.\n",
      "Df Residuals:                                 312   BIC:                             5304.\n",
      "Df Model:                                      16                                         \n",
      "Covariance Type:                        nonrobust                                         \n",
      "=========================================================================================================\n",
      "                                            coef    std err          t      P>|t|      [95.0% Conf. Int.]\n",
      "---------------------------------------------------------------------------------------------------------\n",
      "const                                   358.1683    328.898      1.089      0.277      -288.971  1005.307\n",
      "batting_average                        2888.8905   2791.277      1.035      0.301     -2603.216  8380.997\n",
      "on_base_percentage                    -3837.4642   2399.913     -1.599      0.111     -8559.525   884.596\n",
      "number_of_runs                            8.9410      5.541      1.614      0.108        -1.962    19.844\n",
      "number_of_hits                           -2.6934      3.291     -0.818      0.414        -9.168     3.782\n",
      "number_of_doubles                        -2.1494      8.467     -0.254      0.800       -18.810    14.511\n",
      "number_of_triples                       -22.7478     21.212     -1.072      0.284       -64.485    18.989\n",
      "number_of_home_runs                      12.7920     12.377      1.034      0.302       -11.561    37.145\n",
      "number_of_runs_batted_in                 19.2680      4.975      3.873      0.000         9.480    29.056\n",
      "number_of_walks                           5.6493      4.474      1.263      0.208        -3.154    14.453\n",
      "number_of_strike_outs                    -9.9699      2.106     -4.733      0.000       -14.114    -5.825\n",
      "number_of_stolen_bases                   12.4465      4.654      2.674      0.008         3.289    21.604\n",
      "number_of_errors                        -10.3114      7.380     -1.397      0.163       -24.832     4.209\n",
      "indicator_of_free_agency_eligibility   1401.9627    106.539     13.159      0.000      1192.337  1611.588\n",
      "indicator_of_free_agent_in_1991_1992   -389.6385    136.471     -2.855      0.005      -658.158  -121.119\n",
      "indicator_of_arbitration_eligibility    801.9127    116.551      6.880      0.000       572.588  1031.238\n",
      "indicator_of_arbitration_in_1991_1992   398.7514    247.671      1.610      0.108       -88.565   886.067\n",
      "==============================================================================\n",
      "Omnibus:                       29.533   Durbin-Watson:                   1.591\n",
      "Prob(Omnibus):                  0.000   Jarque-Bera (JB):               61.562\n",
      "Skew:                           0.480   Prob(JB):                     4.29e-14\n",
      "Kurtosis:                       4.889   Cond. No.                     1.45e+04\n",
      "==============================================================================\n",
      "\n",
      "Warnings:\n",
      "[1] Standard Errors assume that the covariance matrix of the errors is correctly specified.\n",
      "[2] The condition number is large, 1.45e+04. This might indicate that there are\n",
      "strong multicollinearity or other numerical problems.\n"
     ]
    }
   ],
   "source": [
    "print(result.summary())"
   ]
  },
  {
   "cell_type": "markdown",
   "metadata": {},
   "source": [
    "## Model Selection Using L1 Regression"
   ]
  },
  {
   "cell_type": "markdown",
   "metadata": {},
   "source": [
    "Notes:\n",
    "        * fit L1 penealized model with alpha between 2^-15 and 2^15 \n",
    "        * this will force an increasing number of the parameters to zero\n",
    "        * the nonzero variables are the selected variables\n",
    "        * we choose the model with the minimal aic, bic\n",
    "        * last we will refit the \"best\" model and interpret the variables"
   ]
  },
  {
   "cell_type": "code",
   "execution_count": 7,
   "metadata": {
    "collapsed": true
   },
   "outputs": [],
   "source": [
    "model = sms.OLS(df.salary_in_thousands_of_dollars, df.iloc[:, 1:])"
   ]
  },
  {
   "cell_type": "code",
   "execution_count": 8,
   "metadata": {
    "collapsed": false
   },
   "outputs": [],
   "source": [
    "# declare lists for storage\n",
    "nums = list()\n",
    "parmslist = list()\n",
    "\n",
    "# loop from k = -15 to k = 15 increasing the value of the \n",
    "# penalization parameter calculated 2**k\n",
    "for k in range(-15, 15):\n",
    "    alpha = 2**k\n",
    "    \n",
    "    # fit regression\n",
    "    reg_results = model.fit_regularized(alpha=alpha)\n",
    "    \n",
    "    # get aic and bic\n",
    "    aic = reg_results.aic\n",
    "    bic = reg_results.bic\n",
    "    \n",
    "    # count the number non zero parameters\n",
    "    parmct = (reg_results.params > 0).sum()\n",
    "    \n",
    "    # get rsqrd\n",
    "    rsqr = reg_results.rsquared\n",
    "    \n",
    "    # collect the list of nonzero parameters\n",
    "    parms = reg_results.params[(reg_results.params > 0)].index.tolist()\n",
    "    \n",
    "    # store values\n",
    "    parmslist.append(parms)\n",
    "    nums.append((alpha, aic, bic, rsqr, parmct))"
   ]
  },
  {
   "cell_type": "code",
   "execution_count": 9,
   "metadata": {
    "collapsed": false
   },
   "outputs": [],
   "source": [
    "modelsdf = pd.DataFrame(nums, columns=['alpha', 'aic', 'bic', 'rsqr', 'parmsct'])"
   ]
  },
  {
   "cell_type": "code",
   "execution_count": 10,
   "metadata": {
    "collapsed": false
   },
   "outputs": [
    {
     "data": {
      "text/plain": [
       "<matplotlib.axes._subplots.AxesSubplot at 0x98b3fd0>"
      ]
     },
     "execution_count": 10,
     "metadata": {},
     "output_type": "execute_result"
    },
    {
     "data": {
      "image/png": "[encoded data removed]",
      "text/plain": [
       "<matplotlib.figure.Figure at 0x96eb278>"
      ]
     },
     "metadata": {},
     "output_type": "display_data"
    }
   ],
   "source": [
    "modelsdf[['aic', 'bic']].plot()"
   ]
  },
  {
   "cell_type": "code",
   "execution_count": 11,
   "metadata": {
    "collapsed": false,
    "scrolled": true
   },
   "outputs": [
    {
     "name": "stdout",
     "output_type": "stream",
     "text": [
      "batting_average, number_of_runs, number_of_home_runs, number_of_runs_batted_in, number_of_walks, number_of_stolen_bases, indicator_of_free_agency_eligibility, indicator_of_arbitration_eligibility, indicator_of_arbitration_in_1991_1992, \n",
      "\n",
      "batting_average, number_of_runs, number_of_home_runs, number_of_runs_batted_in, number_of_walks, number_of_stolen_bases, indicator_of_free_agency_eligibility, indicator_of_arbitration_eligibility, indicator_of_arbitration_in_1991_1992, \n",
      "\n",
      "batting_average, number_of_runs, number_of_home_runs, number_of_runs_batted_in, number_of_walks, number_of_stolen_bases, indicator_of_free_agency_eligibility, indicator_of_arbitration_eligibility, indicator_of_arbitration_in_1991_1992, \n",
      "\n",
      "batting_average, number_of_runs, number_of_home_runs, number_of_runs_batted_in, number_of_walks, number_of_stolen_bases, indicator_of_free_agency_eligibility, indicator_of_arbitration_eligibility, indicator_of_arbitration_in_1991_1992, \n",
      "\n",
      "batting_average, number_of_runs, number_of_home_runs, number_of_runs_batted_in, number_of_walks, number_of_stolen_bases, indicator_of_free_agency_eligibility, indicator_of_arbitration_eligibility, indicator_of_arbitration_in_1991_1992, \n",
      "\n",
      "batting_average, number_of_runs, number_of_home_runs, number_of_runs_batted_in, number_of_walks, number_of_stolen_bases, indicator_of_free_agency_eligibility, indicator_of_arbitration_eligibility, indicator_of_arbitration_in_1991_1992, \n",
      "\n",
      "batting_average, number_of_runs, number_of_home_runs, number_of_runs_batted_in, number_of_walks, number_of_stolen_bases, indicator_of_free_agency_eligibility, indicator_of_arbitration_eligibility, indicator_of_arbitration_in_1991_1992, \n",
      "\n",
      "batting_average, number_of_runs, number_of_home_runs, number_of_runs_batted_in, number_of_walks, number_of_stolen_bases, indicator_of_free_agency_eligibility, indicator_of_arbitration_eligibility, indicator_of_arbitration_in_1991_1992, \n",
      "\n",
      "batting_average, number_of_runs, number_of_home_runs, number_of_runs_batted_in, number_of_walks, number_of_stolen_bases, indicator_of_free_agency_eligibility, indicator_of_arbitration_eligibility, indicator_of_arbitration_in_1991_1992, \n",
      "\n",
      "batting_average, number_of_runs, number_of_home_runs, number_of_runs_batted_in, number_of_walks, number_of_stolen_bases, indicator_of_free_agency_eligibility, indicator_of_arbitration_eligibility, indicator_of_arbitration_in_1991_1992, \n",
      "\n",
      "batting_average, number_of_runs, number_of_home_runs, number_of_runs_batted_in, number_of_walks, number_of_stolen_bases, indicator_of_free_agency_eligibility, indicator_of_arbitration_eligibility, indicator_of_arbitration_in_1991_1992, \n",
      "\n",
      "batting_average, number_of_runs, number_of_home_runs, number_of_runs_batted_in, number_of_walks, number_of_stolen_bases, indicator_of_free_agency_eligibility, indicator_of_arbitration_eligibility, indicator_of_arbitration_in_1991_1992, \n",
      "\n",
      "batting_average, number_of_runs, number_of_home_runs, number_of_runs_batted_in, number_of_walks, number_of_stolen_bases, indicator_of_free_agency_eligibility, indicator_of_arbitration_eligibility, indicator_of_arbitration_in_1991_1992, \n",
      "\n",
      "batting_average, number_of_runs, number_of_home_runs, number_of_runs_batted_in, number_of_walks, number_of_stolen_bases, indicator_of_free_agency_eligibility, indicator_of_arbitration_eligibility, indicator_of_arbitration_in_1991_1992, \n",
      "\n",
      "number_of_runs, number_of_home_runs, number_of_runs_batted_in, number_of_walks, number_of_stolen_bases, indicator_of_free_agency_eligibility, indicator_of_arbitration_eligibility, indicator_of_arbitration_in_1991_1992, \n",
      "\n",
      "number_of_runs, number_of_home_runs, number_of_runs_batted_in, number_of_walks, number_of_stolen_bases, indicator_of_free_agency_eligibility, indicator_of_arbitration_eligibility, indicator_of_arbitration_in_1991_1992, \n",
      "\n",
      "number_of_runs, number_of_home_runs, number_of_runs_batted_in, number_of_walks, number_of_stolen_bases, indicator_of_free_agency_eligibility, indicator_of_arbitration_eligibility, indicator_of_arbitration_in_1991_1992, \n",
      "\n",
      "number_of_runs, number_of_home_runs, number_of_runs_batted_in, number_of_walks, number_of_stolen_bases, indicator_of_free_agency_eligibility, indicator_of_arbitration_eligibility, indicator_of_arbitration_in_1991_1992, \n",
      "\n",
      "number_of_runs, number_of_home_runs, number_of_runs_batted_in, number_of_walks, number_of_stolen_bases, indicator_of_free_agency_eligibility, indicator_of_arbitration_eligibility, indicator_of_arbitration_in_1991_1992, \n",
      "\n",
      "number_of_runs, number_of_home_runs, number_of_runs_batted_in, number_of_walks, number_of_stolen_bases, indicator_of_free_agency_eligibility, indicator_of_arbitration_eligibility, \n",
      "\n",
      "number_of_runs, number_of_home_runs, number_of_runs_batted_in, number_of_walks, number_of_stolen_bases, indicator_of_free_agency_eligibility, indicator_of_arbitration_eligibility, \n",
      "\n",
      "number_of_runs, number_of_hits, number_of_home_runs, number_of_runs_batted_in, number_of_walks, number_of_stolen_bases, indicator_of_free_agency_eligibility, indicator_of_arbitration_eligibility, \n",
      "\n",
      "number_of_runs, number_of_hits, number_of_home_runs, number_of_runs_batted_in, number_of_walks, number_of_stolen_bases, indicator_of_free_agency_eligibility, \n",
      "\n",
      "number_of_runs, number_of_hits, number_of_home_runs, number_of_runs_batted_in, number_of_walks, number_of_stolen_bases, \n",
      "\n",
      "number_of_runs, number_of_hits, number_of_runs_batted_in, number_of_walks, number_of_stolen_bases, \n",
      "\n",
      "number_of_runs, number_of_hits, number_of_runs_batted_in, number_of_walks, \n",
      "\n",
      "number_of_runs, number_of_hits, number_of_runs_batted_in, number_of_walks, \n",
      "\n",
      "number_of_runs, number_of_hits, number_of_runs_batted_in, \n",
      "\n",
      "number_of_hits, number_of_runs_batted_in, \n",
      "\n",
      "number_of_hits, \n",
      "\n"
     ]
    }
   ],
   "source": [
    "for lst in parmslist:\n",
    "    strn = ''\n",
    "    for item in lst:\n",
    "        strn += item + ', '\n",
    "    print strn\n",
    "    print"
   ]
  },
  {
   "cell_type": "markdown",
   "metadata": {
    "collapsed": true
   },
   "source": [
    "## Rerun Regression on \"Best\" Model"
   ]
  },
  {
   "cell_type": "markdown",
   "metadata": {},
   "source": [
    "Notes:\n",
    "    * Using the best model from above, we re-fit without L1 regularization.\n",
    "    * On the first fit below number_of_runs and number_of_walks are not significant so we re-fit after dropping the variables."
   ]
  },
  {
   "cell_type": "markdown",
   "metadata": {},
   "source": [
    "##### Model 1"
   ]
  },
  {
   "cell_type": "code",
   "execution_count": 12,
   "metadata": {
    "collapsed": false
   },
   "outputs": [],
   "source": [
    "model = sms.OLS(df.salary_in_thousands_of_dollars, \n",
    "                sms.add_constant(\n",
    "                    df[[\n",
    "                        'number_of_runs', \n",
    "                        'number_of_home_runs', \n",
    "                        'number_of_runs_batted_in',\n",
    "                        'number_of_walks',\n",
    "                        'number_of_stolen_bases',\n",
    "                        'indicator_of_free_agency_eligibility',\n",
    "                        'indicator_of_arbitration_eligibility' \n",
    "                        ]]))"
   ]
  },
  {
   "cell_type": "code",
   "execution_count": 13,
   "metadata": {
    "collapsed": false
   },
   "outputs": [],
   "source": [
    "results = model.fit()"
   ]
  },
  {
   "cell_type": "code",
   "execution_count": 14,
   "metadata": {
    "collapsed": false
   },
   "outputs": [
    {
     "name": "stdout",
     "output_type": "stream",
     "text": [
      "                                  OLS Regression Results                                  \n",
      "==========================================================================================\n",
      "Dep. Variable:     salary_in_thousands_of_dollars   R-squared:                       0.663\n",
      "Model:                                        OLS   Adj. R-squared:                  0.655\n",
      "Method:                             Least Squares   F-statistic:                     90.12\n",
      "Date:                            Mon, 21 Mar 2016   Prob (F-statistic):           6.26e-72\n",
      "Time:                                    17:01:12   Log-Likelihood:                -2628.0\n",
      "No. Observations:                             329   AIC:                             5272.\n",
      "Df Residuals:                                 321   BIC:                             5302.\n",
      "Df Model:                                       7                                         \n",
      "Covariance Type:                        nonrobust                                         \n",
      "========================================================================================================\n",
      "                                           coef    std err          t      P>|t|      [95.0% Conf. Int.]\n",
      "--------------------------------------------------------------------------------------------------------\n",
      "const                                 -366.7647     82.890     -4.425      0.000      -529.841  -203.688\n",
      "number_of_runs                           5.0087      3.905      1.283      0.200        -2.673    12.691\n",
      "number_of_home_runs                      9.5784      9.222      1.039      0.300        -8.564    27.721\n",
      "number_of_runs_batted_in                12.8215      3.924      3.267      0.001         5.101    20.542\n",
      "number_of_walks                         -0.8747      2.945     -0.297      0.767        -6.668     4.919\n",
      "number_of_stolen_bases                   8.0111      4.687      1.709      0.088        -1.211    17.233\n",
      "indicator_of_free_agency_eligibility  1318.3588     97.328     13.546      0.000      1126.878  1509.840\n",
      "indicator_of_arbitration_eligibility   862.3452    116.606      7.395      0.000       632.936  1091.754\n",
      "==============================================================================\n",
      "Omnibus:                       20.624   Durbin-Watson:                   1.394\n",
      "Prob(Omnibus):                  0.000   Jarque-Bera (JB):               33.753\n",
      "Skew:                           0.409   Prob(JB):                     4.68e-08\n",
      "Kurtosis:                       4.339   Cond. No.                         292.\n",
      "==============================================================================\n",
      "\n",
      "Warnings:\n",
      "[1] Standard Errors assume that the covariance matrix of the errors is correctly specified.\n"
     ]
    }
   ],
   "source": [
    "print(results.summary())"
   ]
  },
  {
   "cell_type": "markdown",
   "metadata": {},
   "source": [
    "##### Model 2"
   ]
  },
  {
   "cell_type": "markdown",
   "metadata": {},
   "source": [
    "Interpretation:\n",
    "    * for continuous variables number_runs_batted_in and number_of_stolen_bases we interpret the coefficients as\n",
    "        - a one unit change in number_of_runs_batted_in corresponds to a 18.7 thousand dollar increase in salary\n",
    "        - a one unit change in number_of_stolen_bases corresponds to a 11.4 thousand dollar increase in salary\n",
    "    * for indicator variables we interpret the coefficients as\n",
    "        - when a person is free agent eligible we see an average 1.33 million increase in salary\n",
    "        - when a person is arbitration eligible we see an average .87 million increase in salary"
   ]
  },
  {
   "cell_type": "code",
   "execution_count": 15,
   "metadata": {
    "collapsed": true
   },
   "outputs": [],
   "source": [
    "model = sms.OLS(df.salary_in_thousands_of_dollars, \n",
    "                sms.add_constant(\n",
    "                    df[[\n",
    "                        'number_of_runs_batted_in',\n",
    "                        'number_of_stolen_bases',\n",
    "                        'indicator_of_free_agency_eligibility',\n",
    "                        'indicator_of_arbitration_eligibility' \n",
    "                        ]]))"
   ]
  },
  {
   "cell_type": "code",
   "execution_count": 16,
   "metadata": {
    "collapsed": true
   },
   "outputs": [],
   "source": [
    "results = model.fit()"
   ]
  },
  {
   "cell_type": "code",
   "execution_count": 17,
   "metadata": {
    "collapsed": false
   },
   "outputs": [
    {
     "name": "stdout",
     "output_type": "stream",
     "text": [
      "                                  OLS Regression Results                                  \n",
      "==========================================================================================\n",
      "Dep. Variable:     salary_in_thousands_of_dollars   R-squared:                       0.660\n",
      "Model:                                        OLS   Adj. R-squared:                  0.656\n",
      "Method:                             Least Squares   F-statistic:                     157.1\n",
      "Date:                            Mon, 21 Mar 2016   Prob (F-statistic):           1.46e-74\n",
      "Time:                                    17:01:13   Log-Likelihood:                -2629.4\n",
      "No. Observations:                             329   AIC:                             5269.\n",
      "Df Residuals:                                 324   BIC:                             5288.\n",
      "Df Model:                                       4                                         \n",
      "Covariance Type:                        nonrobust                                         \n",
      "========================================================================================================\n",
      "                                           coef    std err          t      P>|t|      [95.0% Conf. Int.]\n",
      "--------------------------------------------------------------------------------------------------------\n",
      "const                                 -368.2747     77.765     -4.736      0.000      -521.262  -215.288\n",
      "number_of_runs_batted_in                18.6673      1.496     12.482      0.000        15.725    21.609\n",
      "number_of_stolen_bases                  11.4088      3.533      3.229      0.001         4.458    18.360\n",
      "indicator_of_free_agency_eligibility  1333.9619     95.648     13.947      0.000      1145.793  1522.131\n",
      "indicator_of_arbitration_eligibility   865.7514    114.992      7.529      0.000       639.526  1091.977\n",
      "==============================================================================\n",
      "Omnibus:                       19.294   Durbin-Watson:                   1.387\n",
      "Prob(Omnibus):                  0.000   Jarque-Bera (JB):               30.509\n",
      "Skew:                           0.396   Prob(JB):                     2.37e-07\n",
      "Kurtosis:                       4.264   Cond. No.                         179.\n",
      "==============================================================================\n",
      "\n",
      "Warnings:\n",
      "[1] Standard Errors assume that the covariance matrix of the errors is correctly specified.\n"
     ]
    }
   ],
   "source": [
    "print(results.summary())"
   ]
  }
 ],
 "metadata": {
  "kernelspec": {
   "display_name": "Python 2",
   "language": "python",
   "name": "python2"
  },
  "language_info": {
   "codemirror_mode": {
    "name": "ipython",
    "version": 2
   },
   "file_extension": ".py",
   "mimetype": "text/x-python",
   "name": "python",
   "nbconvert_exporter": "python",
   "pygments_lexer": "ipython2",
   "version": "2.7.11"
  }
 },
 "nbformat": 4,
 "nbformat_minor": 0
}
